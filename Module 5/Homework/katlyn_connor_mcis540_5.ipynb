{
 "cells": [
  {
   "attachments": {},
   "cell_type": "markdown",
   "metadata": {},
   "source": [
    "MCIS 540 Assignment 5\n",
    "\n",
    "Use the provided code as an example, write a program to read data from the provided file.\n",
    "\n",
    "Run multiple regression on the data set. You may use pandas or other module of your choice to read the file."
   ]
  },
  {
   "cell_type": "code",
   "execution_count": 6,
   "metadata": {
    "scrolled": false
   },
   "outputs": [
    {
     "name": "stdout",
     "output_type": "stream",
     "text": [
      "              Industry  Insider_Ownership  Debt_Ratio  Dividend_Payout\n",
      "0               Mining                8.2        14.2             10.4\n",
      "1    Food and beverage               18.4        20.8             14.3\n",
      "2            Furniture               11.8        18.6             12.1\n",
      "3           Publishing               28.0        18.5             11.8\n",
      "4   Petroleum refining                7.4        28.2             10.6\n",
      "5     Glass and cement               15.4        24.7             12.6\n",
      "6                Motor               15.7        15.6             12.6\n",
      "7     Department store               18.4        21.7              7.2\n",
      "8           Restaurant               13.4        23.0             11.3\n",
      "9            Amusement               18.1        46.7              4.1\n",
      "10            Hospital               10.0        35.8              9.0\n",
      "\n",
      "\n",
      "                            OLS Regression Results                            \n",
      "==============================================================================\n",
      "Dep. Variable:        Dividend_Payout   R-squared:                       0.528\n",
      "Model:                            OLS   Adj. R-squared:                  0.410\n",
      "Method:                 Least Squares   F-statistic:                     4.475\n",
      "Date:                Mon, 26 Apr 2021   Prob (F-statistic):             0.0496\n",
      "Time:                        00:29:33   Log-Likelihood:                -22.544\n",
      "No. Observations:                  11   AIC:                             51.09\n",
      "Df Residuals:                       8   BIC:                             52.28\n",
      "Df Model:                           2                                         \n",
      "Covariance Type:            nonrobust                                         \n",
      "=====================================================================================\n",
      "                        coef    std err          t      P>|t|      [0.025      0.975]\n",
      "-------------------------------------------------------------------------------------\n",
      "const                16.0608      2.668      6.020      0.000       9.908      22.213\n",
      "Insider_Ownership    -0.0134      0.119     -0.113      0.913      -0.288       0.261\n",
      "Debt_Ratio           -0.2183      0.073     -2.991      0.017      -0.387      -0.050\n",
      "==============================================================================\n",
      "Omnibus:                        1.139   Durbin-Watson:                   2.277\n",
      "Prob(Omnibus):                  0.566   Jarque-Bera (JB):                0.526\n",
      "Skew:                          -0.518   Prob(JB):                        0.769\n",
      "Kurtosis:                       2.725   Cond. No.                         120.\n",
      "==============================================================================\n",
      "\n",
      "Notes:\n",
      "[1] Standard Errors assume that the covariance matrix of the errors is correctly specified.\n"
     ]
    },
    {
     "name": "stderr",
     "output_type": "stream",
     "text": [
      "C:\\Users\\katly\\anaconda3\\lib\\site-packages\\scipy\\stats\\stats.py:1603: UserWarning: kurtosistest only valid for n>=20 ... continuing anyway, n=11\n",
      "  warnings.warn(\"kurtosistest only valid for n>=20 ... continuing \"\n"
     ]
    }
   ],
   "source": [
    "import numpy as np\n",
    "import statsmodels.api as sm\n",
    "import pandas as pd\n",
    "\n",
    "#I used pandas to import the Excel file as a dataframe\n",
    "df = pd.read_excel(r'C:\\Users\\katly\\OneDrive\\Documents\\Cabrini\\MCIS 540 - Programming for DS\\Assignments\\MCIS540-M5-Data.xlsx')\n",
    "print(df)\n",
    "print('\\n')\n",
    "\n",
    "#I followed the example provided in the module\n",
    "#Here I assigned both independent variables to X and the dependent variable to Y\n",
    "#I made sure to use the appropriate columns of the Excel sheet\n",
    "X = df[['Insider_Ownership','Debt_Ratio']]\n",
    "Y = df['Dividend_Payout']\n",
    "\n",
    "#Running multiple linear regression on the assigned variables\n",
    "X = sm.add_constant(X)\n",
    "model = sm.OLS(endog=Y, exog=X).fit()\n",
    "predictions = model.predict(X)\n",
    "print_model = model.summary()\n",
    "\n",
    "#Printing results\n",
    "print (print_model)"
   ]
  },
  {
   "cell_type": "code",
   "execution_count": null,
   "metadata": {},
   "outputs": [],
   "source": []
  }
 ],
 "metadata": {
  "kernelspec": {
   "display_name": "Python 3",
   "language": "python",
   "name": "python3"
  },
  "language_info": {
   "codemirror_mode": {
    "name": "ipython",
    "version": 3
   },
   "file_extension": ".py",
   "mimetype": "text/x-python",
   "name": "python",
   "nbconvert_exporter": "python",
   "pygments_lexer": "ipython3",
   "version": "3.8.5"
  }
 },
 "nbformat": 4,
 "nbformat_minor": 4
}
