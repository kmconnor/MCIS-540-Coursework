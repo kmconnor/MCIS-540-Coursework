{
 "cells": [
  {
   "cell_type": "markdown",
   "metadata": {},
   "source": [
    "MCIS 540 Assignment 2\n",
    "\n",
    "Problem 1 - Using a for loop, write a program that prints out the decimal equivalents of 1/n where 2 <= n <= 10"
   ]
  },
  {
   "cell_type": "code",
   "execution_count": 1,
   "metadata": {},
   "outputs": [
    {
     "name": "stdout",
     "output_type": "stream",
     "text": [
      "The decimal equivalent of 1/2 is 0.5\n",
      "The decimal equivalent of 1/3 is 0.3333333333333333\n",
      "The decimal equivalent of 1/4 is 0.25\n",
      "The decimal equivalent of 1/5 is 0.2\n",
      "The decimal equivalent of 1/6 is 0.16666666666666666\n",
      "The decimal equivalent of 1/7 is 0.14285714285714285\n",
      "The decimal equivalent of 1/8 is 0.125\n",
      "The decimal equivalent of 1/9 is 0.1111111111111111\n",
      "The decimal equivalent of 1/10 is 0.1\n"
     ]
    }
   ],
   "source": [
    "for n in range (2, 11):\n",
    "    fraction = 1/n\n",
    "    print('The decimal equivalent of 1/' + str(n) + ' is ' + str(fraction))\n",
    "    n + 1"
   ]
  },
  {
   "cell_type": "markdown",
   "metadata": {},
   "source": [
    "Problem 2 - Write a program using a while loop that asks the user to enter a number that is divisible by 2. Give the user a witty message if they enter something that is not divisible by 2 and make them enter a new number. Don't let them stop until they enter an even number! Print a congratulatory message when they *finally* get it right."
   ]
  },
  {
   "cell_type": "code",
   "execution_count": 2,
   "metadata": {},
   "outputs": [
    {
     "name": "stdout",
     "output_type": "stream",
     "text": [
      "Please enter a number divisible by 2:\n",
      "2\n",
      "Congrats, you finally figured it out.\n"
     ]
    }
   ],
   "source": [
    "while True:\n",
    "    i = input('Please enter a number divisible by 2:\\n')\n",
    "    i = int(i)\n",
    "    if i%2 == 0:\n",
    "        print('Congrats, you finally figured it out.')\n",
    "        break\n",
    "    else:\n",
    "        print('Foolish human. You are no match for a computer of my caliber. Try again.\\n')"
   ]
  },
  {
   "cell_type": "markdown",
   "metadata": {},
   "source": [
    "Problem 3 - Pig Latin is a game taking the first letter of a word, puts it at the end, and appends \"ay\". The exception is if the first letter is a vowel, you keep it as it is and append \"hay\" to the end. Write a program using a while loop that asks the user to enter a word, then converts the word to Pig Latin. \n",
    "\n",
    "I was unable to get this one to work correctly. I had issues with the condition statements checking whether the first letter belonged to the vowels list."
   ]
  },
  {
   "cell_type": "code",
   "execution_count": 27,
   "metadata": {
    "scrolled": true
   },
   "outputs": [
    {
     "name": "stdout",
     "output_type": "stream",
     "text": [
      "Have you heard of Pig Latin? I can convert any word of your choosing.\n",
      "Type it now or type 0 to exit.\n",
      "hello\n",
      "['h']\n",
      "['e', 'l', 'l', 'o']\n",
      "Your result is: ['e', 'l', 'l', 'o']['h']ay\n",
      "Have you heard of Pig Latin? I can convert any word of your choosing.\n",
      "Type it now or type 0 to exit.\n",
      "image\n",
      "['i']\n",
      "['m', 'a', 'g', 'e']\n",
      "Your result is: ['m', 'a', 'g', 'e']['i']ay\n"
     ]
    },
    {
     "ename": "KeyboardInterrupt",
     "evalue": "Interrupted by user",
     "output_type": "error",
     "traceback": [
      "\u001b[1;31m---------------------------------------------------------------------------\u001b[0m",
      "\u001b[1;31mKeyboardInterrupt\u001b[0m                         Traceback (most recent call last)",
      "\u001b[1;32m<ipython-input-27-f247afe0f50c>\u001b[0m in \u001b[0;36m<module>\u001b[1;34m\u001b[0m\n\u001b[0;32m      1\u001b[0m \u001b[1;32mwhile\u001b[0m \u001b[1;32mTrue\u001b[0m\u001b[1;33m:\u001b[0m\u001b[1;33m\u001b[0m\u001b[1;33m\u001b[0m\u001b[0m\n\u001b[1;32m----> 2\u001b[1;33m     \u001b[0mi\u001b[0m \u001b[1;33m=\u001b[0m \u001b[0minput\u001b[0m\u001b[1;33m(\u001b[0m\u001b[1;34m'Have you heard of Pig Latin? I can convert any word of your choosing.\\nType it now or type 0 to exit.\\n'\u001b[0m\u001b[1;33m)\u001b[0m\u001b[1;33m\u001b[0m\u001b[1;33m\u001b[0m\u001b[0m\n\u001b[0m\u001b[0;32m      3\u001b[0m     \u001b[0mword\u001b[0m \u001b[1;33m=\u001b[0m \u001b[0mstr\u001b[0m\u001b[1;33m(\u001b[0m\u001b[0mi\u001b[0m\u001b[1;33m)\u001b[0m\u001b[1;33m\u001b[0m\u001b[1;33m\u001b[0m\u001b[0m\n\u001b[0;32m      4\u001b[0m     \u001b[1;32mif\u001b[0m \u001b[0mword\u001b[0m \u001b[1;33m!=\u001b[0m \u001b[1;34m'0'\u001b[0m\u001b[1;33m:\u001b[0m\u001b[1;33m\u001b[0m\u001b[1;33m\u001b[0m\u001b[0m\n\u001b[0;32m      5\u001b[0m         \u001b[0mletters\u001b[0m \u001b[1;33m=\u001b[0m \u001b[0mlist\u001b[0m\u001b[1;33m(\u001b[0m\u001b[0mword\u001b[0m\u001b[1;33m)\u001b[0m\u001b[1;33m\u001b[0m\u001b[1;33m\u001b[0m\u001b[0m\n",
      "\u001b[1;32m~\\anaconda3\\lib\\site-packages\\ipykernel\\kernelbase.py\u001b[0m in \u001b[0;36mraw_input\u001b[1;34m(self, prompt)\u001b[0m\n\u001b[0;32m    858\u001b[0m                 \u001b[1;34m\"raw_input was called, but this frontend does not support input requests.\"\u001b[0m\u001b[1;33m\u001b[0m\u001b[1;33m\u001b[0m\u001b[0m\n\u001b[0;32m    859\u001b[0m             )\n\u001b[1;32m--> 860\u001b[1;33m         return self._input_request(str(prompt),\n\u001b[0m\u001b[0;32m    861\u001b[0m             \u001b[0mself\u001b[0m\u001b[1;33m.\u001b[0m\u001b[0m_parent_ident\u001b[0m\u001b[1;33m,\u001b[0m\u001b[1;33m\u001b[0m\u001b[1;33m\u001b[0m\u001b[0m\n\u001b[0;32m    862\u001b[0m             \u001b[0mself\u001b[0m\u001b[1;33m.\u001b[0m\u001b[0m_parent_header\u001b[0m\u001b[1;33m,\u001b[0m\u001b[1;33m\u001b[0m\u001b[1;33m\u001b[0m\u001b[0m\n",
      "\u001b[1;32m~\\anaconda3\\lib\\site-packages\\ipykernel\\kernelbase.py\u001b[0m in \u001b[0;36m_input_request\u001b[1;34m(self, prompt, ident, parent, password)\u001b[0m\n\u001b[0;32m    902\u001b[0m             \u001b[1;32mexcept\u001b[0m \u001b[0mKeyboardInterrupt\u001b[0m\u001b[1;33m:\u001b[0m\u001b[1;33m\u001b[0m\u001b[1;33m\u001b[0m\u001b[0m\n\u001b[0;32m    903\u001b[0m                 \u001b[1;31m# re-raise KeyboardInterrupt, to truncate traceback\u001b[0m\u001b[1;33m\u001b[0m\u001b[1;33m\u001b[0m\u001b[1;33m\u001b[0m\u001b[0m\n\u001b[1;32m--> 904\u001b[1;33m                 \u001b[1;32mraise\u001b[0m \u001b[0mKeyboardInterrupt\u001b[0m\u001b[1;33m(\u001b[0m\u001b[1;34m\"Interrupted by user\"\u001b[0m\u001b[1;33m)\u001b[0m \u001b[1;32mfrom\u001b[0m \u001b[1;32mNone\u001b[0m\u001b[1;33m\u001b[0m\u001b[1;33m\u001b[0m\u001b[0m\n\u001b[0m\u001b[0;32m    905\u001b[0m             \u001b[1;32mexcept\u001b[0m \u001b[0mException\u001b[0m \u001b[1;32mas\u001b[0m \u001b[0me\u001b[0m\u001b[1;33m:\u001b[0m\u001b[1;33m\u001b[0m\u001b[1;33m\u001b[0m\u001b[0m\n\u001b[0;32m    906\u001b[0m                 \u001b[0mself\u001b[0m\u001b[1;33m.\u001b[0m\u001b[0mlog\u001b[0m\u001b[1;33m.\u001b[0m\u001b[0mwarning\u001b[0m\u001b[1;33m(\u001b[0m\u001b[1;34m\"Invalid Message:\"\u001b[0m\u001b[1;33m,\u001b[0m \u001b[0mexc_info\u001b[0m\u001b[1;33m=\u001b[0m\u001b[1;32mTrue\u001b[0m\u001b[1;33m)\u001b[0m\u001b[1;33m\u001b[0m\u001b[1;33m\u001b[0m\u001b[0m\n",
      "\u001b[1;31mKeyboardInterrupt\u001b[0m: Interrupted by user"
     ]
    }
   ],
   "source": [
    "while True:\n",
    "    i = input('Have you heard of Pig Latin? I can convert any word of your choosing.\\nType it now or type 0 to exit.\\n')\n",
    "    word = str(i)\n",
    "    if word != '0':\n",
    "        letters = list(word)\n",
    "        vowels = ['a','e','i','o','u']\n",
    "        firstletter = letters[:1]\n",
    "        remainder = letters[1:]\n",
    "        if firstletter in vowels:\n",
    "            print('Your result is: ' + word + 'hay')\n",
    "        elif firstletter not in vowels:\n",
    "            remainder = str(remainder)\n",
    "            firstletter = str(firstletter)\n",
    "            print('Your result is: ' + remainder + firstletter + 'ay')\n",
    "    elif word == '0':\n",
    "        break\n",
    "\n",
    "    \n"
   ]
  },
  {
   "cell_type": "markdown",
   "metadata": {},
   "source": [
    "Problem 4 - Write a program to combine the following two lists into a dictionary.\n",
    "NAMES = ['Alice', 'Bob', 'Cathy', 'Dan', 'Ed', 'Frank', 'Gary', 'Helen', 'Irene', 'Jack', 'Kelly', 'Larry']\n",
    "AGES = [20, 21, 18, 18, 19, 20, 20, 19, 19, 19, 22, 19]"
   ]
  },
  {
   "cell_type": "code",
   "execution_count": 3,
   "metadata": {},
   "outputs": [
    {
     "name": "stdout",
     "output_type": "stream",
     "text": [
      "{'Alice': 20, 'Bob': 21, 'Cathy': 18, 'Dan': 18, 'Ed': 19, 'Frank': 20, 'Gary': 20, 'Helen': 19, 'Irene': 19, 'Jack': 19, 'Kelly': 22, 'Larry': 19}\n"
     ]
    }
   ],
   "source": [
    "studentages = dict()\n",
    "studentages['Alice'] = 20\n",
    "studentages['Bob'] = 21\n",
    "studentages['Cathy'] = 18\n",
    "studentages['Dan'] = 18\n",
    "studentages['Ed'] = 19\n",
    "studentages['Frank'] = 20\n",
    "studentages['Gary'] = 20\n",
    "studentages['Helen'] = 19\n",
    "studentages['Irene'] = 19\n",
    "studentages['Jack'] = 19\n",
    "studentages['Kelly'] = 22\n",
    "studentages['Larry'] = 19\n",
    "print(studentages)"
   ]
  },
  {
   "cell_type": "code",
   "execution_count": null,
   "metadata": {},
   "outputs": [],
   "source": []
  }
 ],
 "metadata": {
  "kernelspec": {
   "display_name": "Python 3",
   "language": "python",
   "name": "python3"
  },
  "language_info": {
   "codemirror_mode": {
    "name": "ipython",
    "version": 3
   },
   "file_extension": ".py",
   "mimetype": "text/x-python",
   "name": "python",
   "nbconvert_exporter": "python",
   "pygments_lexer": "ipython3",
   "version": "3.8.5"
  }
 },
 "nbformat": 4,
 "nbformat_minor": 4
}
