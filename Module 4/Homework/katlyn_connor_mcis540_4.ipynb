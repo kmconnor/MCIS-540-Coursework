{
 "cells": [
  {
   "attachments": {},
   "cell_type": "markdown",
   "metadata": {},
   "source": [
    "MCIS 540 - Assignment 4\n",
    "\n",
    "4.1 Given three lists: list_1 = [1,2,3,4,16], list_2=[\"1\",\"2\",\"3\",\"4\",\"F\"], and list_3= [\"PA\",\"NJ\"]\n",
    "\n",
    "4.2 Create a data frame using pandas package and the above lists so that list_1 and list_2 are indexed by list_3\n",
    "\n",
    "4.3 Multiply every value by 5 (hint: use anonymous function, i.e. lamda function: e.g. df.apply(lamda x: x*2) will multiply every value by 2). Use markdown cells to discuss if there are problems with the results.\n",
    "\n",
    "4.4 Use pandas’ to_numeric method to clean up the data. (Note: you may have to use the optional errors argument, e.g. to_numeric (x, errors=\"coerce\"). Remember, you also need to assign the results to a variable, either a new one or an existing one, for the next step.)\n",
    "\n",
    "4.5 Now try again to multiply all the values by 5."
   ]
  },
  {
   "cell_type": "code",
   "execution_count": 23,
   "metadata": {},
   "outputs": [
    {
     "name": "stdout",
     "output_type": "stream",
     "text": [
      "    0  1  2  3   4\n",
      "PA  1  2  3  4  16\n",
      "NJ  1  2  3  4   F\n",
      "\n",
      "\n",
      "        0      1      2      3      4\n",
      "PA      5     10     15     20     80\n",
      "NJ  11111  22222  33333  44444  FFFFF\n",
      "\n",
      "\n",
      "    0  1  2  3    4\n",
      "PA  1  2  3  4   16\n",
      "NJ  1  2  3  4  NaN\n",
      "\n",
      "\n",
      "    0   1   2   3    4\n",
      "PA  5  10  15  20   80\n",
      "NJ  5  10  15  20  NaN\n",
      "\n",
      "\n"
     ]
    }
   ],
   "source": [
    "#Import NumPy and Pandas libraries\n",
    "import numpy as np\n",
    "import pandas as pd\n",
    "\n",
    "#Hard code the provided lists into a data frame\n",
    "df = pd.DataFrame(\n",
    "[[1,2,3,4,16],\n",
    " ['1','2','3','4','F']],\n",
    "index = ['PA','NJ'])\n",
    "print(df)\n",
    "print('\\n')\n",
    "\n",
    "#Multiply every value by 5 using lambda function\n",
    "print(df.apply(lambda x: x*5))\n",
    "print('\\n')\n",
    "#This only works correctly on the first row, 'PA' because the values are integers\n",
    "#The values in the second row, 'NJ', are strings and the *5 operator repeats the string 5 times\n",
    "\n",
    "#Cleaning data by converting strings to numeric values\n",
    "df.loc['NJ',:] = pd.to_numeric(df.loc['NJ',:], errors=\"coerce\")\n",
    "print(df)\n",
    "print('\\n')\n",
    "#All values were converted to integers, except for F which is not a number(NaN)\n",
    "\n",
    "#Attempting to multiply again\n",
    "print(df.apply(lambda x: x*5))\n",
    "print('\\n')\n"
   ]
  },
  {
   "cell_type": "code",
   "execution_count": null,
   "metadata": {},
   "outputs": [],
   "source": []
  }
 ],
 "metadata": {
  "kernelspec": {
   "display_name": "Python 3",
   "language": "python",
   "name": "python3"
  },
  "language_info": {
   "codemirror_mode": {
    "name": "ipython",
    "version": 3
   },
   "file_extension": ".py",
   "mimetype": "text/x-python",
   "name": "python",
   "nbconvert_exporter": "python",
   "pygments_lexer": "ipython3",
   "version": "3.8.5"
  }
 },
 "nbformat": 4,
 "nbformat_minor": 4
}
