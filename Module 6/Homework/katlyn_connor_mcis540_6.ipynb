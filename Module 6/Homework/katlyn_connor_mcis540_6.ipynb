{
 "cells": [
  {
   "cell_type": "markdown",
   "metadata": {},
   "source": [
    "MCIS 540 Assignment 6\n",
    "\n"
   ]
  },
  {
   "cell_type": "markdown",
   "metadata": {},
   "source": [
    "6.1 Read data from this file into a DataFrame."
   ]
  },
  {
   "cell_type": "code",
   "execution_count": 1,
   "metadata": {},
   "outputs": [
    {
     "name": "stdout",
     "output_type": "stream",
     "text": [
      "     Sepal Length  Sepal Width  Petal Length  Petal Width            Name\n",
      "0             5.1          3.5           1.4          0.2     Iris-setosa\n",
      "1             4.9          3.0           1.4          0.2     Iris-setosa\n",
      "2             4.7          3.2           1.3          0.2     Iris-setosa\n",
      "3             4.6          3.1           1.5          0.2     Iris-setosa\n",
      "4             5.0          3.6           1.4          0.2     Iris-setosa\n",
      "..            ...          ...           ...          ...             ...\n",
      "145           6.7          3.0           5.2          2.3  Iris-virginica\n",
      "146           6.3          2.5           5.0          1.9  Iris-virginica\n",
      "147           6.5          3.0           5.2          2.0  Iris-virginica\n",
      "148           6.2          3.4           5.4          2.3  Iris-virginica\n",
      "149           5.9          3.0           5.1          1.8  Iris-virginica\n",
      "\n",
      "[150 rows x 5 columns]\n"
     ]
    }
   ],
   "source": [
    "%matplotlib inline\n",
    "import matplotlib.pyplot as plt\n",
    "from matplotlib import colors \n",
    "import numpy as np\n",
    "import pandas as pd\n",
    "\n",
    "#Provided data being imported into a DataFrame\n",
    "df = pd.read_csv(r'C:\\Users\\katly\\OneDrive\\Documents\\Cabrini\\MCIS 540 - Programming for DS\\Assignments\\MCIS540_M6_Data.csv')\n",
    "print(df)"
   ]
  },
  {
   "cell_type": "markdown",
   "metadata": {},
   "source": [
    "6.2 Print the first 5 elements of your DataFrame using the command head(). How many features are there and what are their types (e.g., numeric, nominal)?"
   ]
  },
  {
   "cell_type": "code",
   "execution_count": 2,
   "metadata": {
    "scrolled": true
   },
   "outputs": [
    {
     "name": "stdout",
     "output_type": "stream",
     "text": [
      "   Sepal Length  Sepal Width  Petal Length  Petal Width         Name\n",
      "0           5.1          3.5           1.4          0.2  Iris-setosa\n",
      "1           4.9          3.0           1.4          0.2  Iris-setosa\n",
      "2           4.7          3.2           1.3          0.2  Iris-setosa\n",
      "3           4.6          3.1           1.5          0.2  Iris-setosa\n",
      "4           5.0          3.6           1.4          0.2  Iris-setosa\n"
     ]
    }
   ],
   "source": [
    "#Using head() to print the first five elements of the DataFrame\n",
    "print(df.head())"
   ]
  },
  {
   "cell_type": "markdown",
   "metadata": {},
   "source": [
    "There are five features and they are described as follows:\n",
    "(1) Sepal Length - numeric\n",
    "(2) Sepal Width - numeric\n",
    "(3) Petal Length - numeric\n",
    "(4) Petal Width - numeric\n",
    "(5) Name - nominal"
   ]
  },
  {
   "cell_type": "markdown",
   "metadata": {},
   "source": [
    "6.3 Compute and display summary statistics for each feature available in the dataset. Make sure you include the minimum value, maximum value, mean, range, standard deviation, variance, count, and 25:50:75% percentiles. Be aware that some functions only return partial of the listed statistics."
   ]
  },
  {
   "cell_type": "code",
   "execution_count": 3,
   "metadata": {
    "scrolled": true
   },
   "outputs": [
    {
     "name": "stdout",
     "output_type": "stream",
     "text": [
      "       Sepal Length  Sepal Width  Petal Length  Petal Width\n",
      "count    150.000000   150.000000    150.000000   150.000000\n",
      "mean       5.843333     3.054000      3.758667     1.198667\n",
      "std        0.828066     0.433594      1.764420     0.763161\n",
      "min        4.300000     2.000000      1.000000     0.100000\n",
      "25%        5.100000     2.800000      1.600000     0.300000\n",
      "50%        5.800000     3.000000      4.350000     1.300000\n",
      "75%        6.400000     3.300000      5.100000     1.800000\n",
      "max        7.900000     4.400000      6.900000     2.500000\n",
      "\n",
      "\n",
      "The range is not reflected in the summary.\n",
      "\n",
      "The range for each feature has been calculated below.\n",
      "\n",
      "Sepal Length    3.6\n",
      "Sepal Width     2.4\n",
      "Petal Length    5.9\n",
      "Petal Width     2.4\n",
      "dtype: float64\n",
      "\n",
      "\n",
      "The variance is also not reflected in the summary.\n",
      "\n",
      "The variance for each feature has been calculated below.\n",
      "\n",
      "Sepal Length    0.685694\n",
      "Sepal Width     0.188004\n",
      "Petal Length    3.113179\n",
      "Petal Width     0.582414\n",
      "Name: std, dtype: float64\n"
     ]
    }
   ],
   "source": [
    "#I am assigning the min and max results of the statistical summary to variables\n",
    "#This will allow me to calculate the range, which is not in the summary\n",
    "maximum = df.describe().loc['max']\n",
    "minimum = df.describe().loc['min']\n",
    "ranger = maximum - minimum\n",
    "#I am assigning the standard deviation results of the statistical summary to a variable\n",
    "#This will allow me to calculate the variance, which is not in the summary\n",
    "stdv = df.describe().loc['std']\n",
    "variance = stdv ** 2\n",
    "print(df.describe())\n",
    "print('\\n')\n",
    "print('The range is not reflected in the summary.\\n')\n",
    "print('The range for each feature has been calculated below.\\n')\n",
    "print(ranger)\n",
    "print('\\n')\n",
    "print('The variance is also not reflected in the summary.\\n')\n",
    "print('The variance for each feature has been calculated below.\\n')\n",
    "print(variance)\n"
   ]
  },
  {
   "cell_type": "markdown",
   "metadata": {},
   "source": [
    "6.4 Create a histogram for each feature in the dataset to illustrate the feature distributions, using the default number of bins. A histogram provides a graphical representation of the distribution of the data.\n",
    "\n",
    "Some code sourced from:\n",
    "https://towardsdatascience.com/data-science-with-python-intro-to-data-visualization-and-matplotlib-5f799b7c6d82"
   ]
  },
  {
   "cell_type": "code",
   "execution_count": 4,
   "metadata": {
    "scrolled": false
   },
   "outputs": [
    {
     "data": {
      "image/png": "[encoded data removed]",
      "text/plain": [
       "<Figure size 432x288 with 1 Axes>"
      ]
     },
     "metadata": {
      "needs_background": "light"
     },
     "output_type": "display_data"
    }
   ],
   "source": [
    "df = pd.read_csv(r'C:\\Users\\katly\\OneDrive\\Documents\\Cabrini\\MCIS 540 - Programming for DS\\Assignments\\MCIS540_M6_Data.csv')\n",
    "\n",
    "#This is assigning all values of the Sepal Length feature to the variable sepal_length\n",
    "sepal_length = df.loc[:,'Sepal Length']\n",
    "#This generates a histogram for sepal_length\n",
    "plt.hist(sepal_length)\n",
    "plt.title(\"Distribution of Sepal Length Amongst Iris Flowers\")\n",
    "plt.xlabel(\"Sepal Length\")\n",
    "plt.ylabel(\"Frequency\")\n",
    "plt.show()"
   ]
  },
  {
   "cell_type": "markdown",
   "metadata": {},
   "source": [
    "This histogram shows a random distribution of sepal lengths.\n",
    "There is no obvious pattern to be seen from this graph.\n",
    "Recreating this graph for each of the separate Iris species would likely provide better insights."
   ]
  },
  {
   "cell_type": "code",
   "execution_count": 5,
   "metadata": {
    "scrolled": true
   },
   "outputs": [
    {
     "data": {
      "image/png": "[encoded data removed]",
      "text/plain": [
       "<Figure size 432x288 with 1 Axes>"
      ]
     },
     "metadata": {
      "needs_background": "light"
     },
     "output_type": "display_data"
    }
   ],
   "source": [
    "#This is assigning all values of the Sepal Width feature to the variable sepal_width\n",
    "sepal_width = df.loc[:,'Sepal Width']\n",
    "#This generates a histogram for sepal_width\n",
    "plt.hist(sepal_width)\n",
    "plt.title(\"Distribution of Sepal Width Amongst Iris Flowers\")\n",
    "plt.xlabel(\"Sepal Width\")\n",
    "plt.ylabel(\"Frequency\")\n",
    "plt.show()\n"
   ]
  },
  {
   "cell_type": "markdown",
   "metadata": {},
   "source": [
    "This histogram shows a nearly normal distribution.\n",
    "This can be confirmed by median equal to the mean.\n",
    "For sepal width, the median = 3.000000 and the mean = 3.054000.\n",
    "The median is slightly lower than the mean, which indicates a small negative skew. \n",
    "The slight negative skew can also be seen to the left side of the graph."
   ]
  },
  {
   "cell_type": "code",
   "execution_count": 6,
   "metadata": {
    "scrolled": false
   },
   "outputs": [
    {
     "data": {
      "image/png": "[encoded data removed]",
      "text/plain": [
       "<Figure size 432x288 with 1 Axes>"
      ]
     },
     "metadata": {
      "needs_background": "light"
     },
     "output_type": "display_data"
    }
   ],
   "source": [
    "#This is assigning all values of the Petal Length feature to the variable petal_length\n",
    "petal_length = df.loc[:,'Petal Length']\n",
    "#This generates a histogram for petal_length\n",
    "plt.hist(petal_length)\n",
    "plt.title(\"Distribution of Petal Length Amongst Iris Flowers\")\n",
    "plt.xlabel(\"Petal Length\")\n",
    "plt.ylabel(\"Frequency\")\n",
    "plt.show()"
   ]
  },
  {
   "cell_type": "markdown",
   "metadata": {},
   "source": [
    "This histogram shows two clusters of petal lengths.\n",
    "The cluster on the left hand side is approximately 50 values of petal length 1-2. \n",
    "Each flower has 50 values as indicated by the Species Name histogram below.\n",
    "My assumption is that one of the three Iris species has shorter petal lengths.\n",
    "The remaining petal lengths are almost evenly distributed between the two other Iris species."
   ]
  },
  {
   "cell_type": "code",
   "execution_count": 7,
   "metadata": {
    "scrolled": false
   },
   "outputs": [
    {
     "data": {
      "image/png": "[encoded data removed]",
      "text/plain": [
       "<Figure size 432x288 with 1 Axes>"
      ]
     },
     "metadata": {
      "needs_background": "light"
     },
     "output_type": "display_data"
    }
   ],
   "source": [
    "#This is assigning all values of the Petal Width feature to the variable petal_width\n",
    "petal_width = df.loc[:,'Petal Width']\n",
    "#This generates a histogram for petal_width\n",
    "plt.hist(petal_width)\n",
    "plt.title(\"Distribution of Petal Width Amongst Iris Flowers\")\n",
    "plt.xlabel(\"Petal Width\")\n",
    "plt.ylabel(\"Frequency\")\n",
    "plt.show()"
   ]
  },
  {
   "cell_type": "markdown",
   "metadata": {},
   "source": [
    "This histogram provides a distribution that is similar to the petal length distribution.\n",
    "Again, two clusters can clearly be seen on the left and right sides.\n",
    "The left cluster is almost identical to the left cluster of the petal length histogram.\n",
    "However, the right cluster is not as evenly distributed as the right cluster of the petal length histogram."
   ]
  },
  {
   "cell_type": "code",
   "execution_count": 8,
   "metadata": {
    "scrolled": true
   },
   "outputs": [
    {
     "data": {
      "image/png": "[encoded data removed]",
      "text/plain": [
       "<Figure size 432x288 with 1 Axes>"
      ]
     },
     "metadata": {
      "needs_background": "light"
     },
     "output_type": "display_data"
    }
   ],
   "source": [
    "#This is assigning all values of the Name feature to the variable flower_name\n",
    "species_name = df.loc[:,'Name']\n",
    "#This generates a histogram for flower_name\n",
    "plt.hist(species_name)\n",
    "plt.title(\"Distribution of Species Name Amongst Iris Flowers\")\n",
    "plt.xlabel(\"Species Name\")\n",
    "plt.ylabel(\"Frequency\")\n",
    "plt.show()"
   ]
  },
  {
   "cell_type": "markdown",
   "metadata": {},
   "source": [
    "This histogram shows that there are exactly 50 flowers of each of the three species."
   ]
  },
  {
   "cell_type": "markdown",
   "metadata": {},
   "source": [
    "6.5 Create a boxplot for each feature in the dataset. All of the boxplots will be combined into a single plot. A boxplot provides a graphical representation of the location and variation of the data through their quartiles; they are especially useful for comparing distributions and identifying outliers.\n",
    "\n",
    "Some code sourced from:\n",
    "https://stackoverflow.com/questions/16090241/pandas-dataframe-as-input-for-matplotlib-pyplot-boxplot\n",
    "\n",
    "https://matplotlib.org/stable/gallery/statistics/boxplot_color.html#sphx-glr-gallery-statistics-boxplot-color-py"
   ]
  },
  {
   "cell_type": "code",
   "execution_count": 9,
   "metadata": {
    "scrolled": true
   },
   "outputs": [
    {
     "data": {
      "image/png": "[encoded data removed]",
      "text/plain": [
       "<Figure size 432x288 with 1 Axes>"
      ]
     },
     "metadata": {
      "needs_background": "light"
     },
     "output_type": "display_data"
    }
   ],
   "source": [
    "df = pd.read_csv(r'C:\\Users\\katly\\OneDrive\\Documents\\Cabrini\\MCIS 540 - Programming for DS\\Assignments\\MCIS540_M6_Data.csv')\n",
    "fig, ax = plt.subplots()\n",
    "df.boxplot()\n",
    "ax.set_title('Distribution of Iris Properties')\n",
    "ax.set_xlabel('Iris Properties')\n",
    "ax.set_ylabel('Observed Values')\n",
    "plt.show()"
   ]
  },
  {
   "cell_type": "markdown",
   "metadata": {},
   "source": [
    "Sepal Length:\n",
    "It is hard to see the random distribution reflected in this boxplot.\n",
    "Because the values were staggered in the historgram, they were still split pretty evenly between each percentile.\n",
    "\n",
    "Sepal Width:\n",
    "This boxplot provides further insight than the histogram was able to convey.\n",
    "I can see now that there are a lot of outliers that stray from the majority of the distribution. \n",
    "It was hard to tell that the histogram contained outliers because of its consistent shape \n",
    "\n",
    "Petal Length:\n",
    "This boxplot shows that petal length values have the largest range.\n",
    "A negative skew can also be seen with a majority of the values falling in the 50%-75% range.\n",
    "\n",
    "Petal Width:\n",
    "The shape of this boxplot is like a scaled down version of the petal length boxplot.\n",
    "This maintains my previous observation that petal length and width have a similar distribution.\n"
   ]
  }
 ],
 "metadata": {
  "kernelspec": {
   "display_name": "Python 3",
   "language": "python",
   "name": "python3"
  },
  "language_info": {
   "codemirror_mode": {
    "name": "ipython",
    "version": 3
   },
   "file_extension": ".py",
   "mimetype": "text/x-python",
   "name": "python",
   "nbconvert_exporter": "python",
   "pygments_lexer": "ipython3",
   "version": "3.8.5"
  }
 },
 "nbformat": 4,
 "nbformat_minor": 4
}
