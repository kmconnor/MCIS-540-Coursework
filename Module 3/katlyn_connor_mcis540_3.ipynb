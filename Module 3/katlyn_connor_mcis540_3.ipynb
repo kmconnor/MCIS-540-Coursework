{
 "cells": [
  {
   "cell_type": "markdown",
   "metadata": {},
   "source": [
    "MCIS 540 Assignment 3\n",
    "\n",
    "Problem 1 - Transform your code from assignment 2.3 (Pig Latin game) \n",
    "into a function, pig_latin, that takes parameters, instead of asking \n",
    "the user for input. Make sure to return your answer rather than printing it."
   ]
  },
  {
   "cell_type": "code",
   "execution_count": 1,
   "metadata": {},
   "outputs": [
    {
     "data": {
      "text/plain": [
       "'ellohay'"
      ]
     },
     "execution_count": 1,
     "metadata": {},
     "output_type": "execute_result"
    }
   ],
   "source": [
    "def pig_latin(word):\n",
    "    #Check if the first letter of word is a vowel\n",
    "    #If so, return the word with hay at the end\n",
    "    if word[:1] in 'aeiou':\n",
    "        result = word + 'hay'\n",
    "        return result\n",
    "    #If the first letter is not a vowel\n",
    "    #Return the word with the first letter + ay at the end\n",
    "    else:\n",
    "        result = word[1:] + word[:1] + 'ay'\n",
    "        return result\n",
    "    \n",
    "word = 'hello'\n",
    "pig_latin(word)"
   ]
  },
  {
   "cell_type": "markdown",
   "metadata": {},
   "source": [
    "Problem 2 - Write a function, roll_dice, that takes in 2 parameters - the number of sides of the die, and the number of dice to roll - and generates random roll values for each die rolled. Print out each roll and then return the string “That’s all!” An example output:\n",
    "\n",
    "roll_dice(6, 3)\n",
    "4\n",
    "1\n",
    "6\n",
    "That’s all!\n",
    "\n",
    "(Note: For this function, we’ll use the random module. At the top of your code, add the line -  import random. To generate a random integer, use the function randint, which works like this: random.randint(lo, hi), where lo and hi are integers that tell the code the range in which to generate a random integer (this range is inclusive).)"
   ]
  },
  {
   "cell_type": "code",
   "execution_count": 2,
   "metadata": {},
   "outputs": [
    {
     "name": "stdout",
     "output_type": "stream",
     "text": [
      "8\n",
      "3\n",
      "10\n",
      "That's all!\n"
     ]
    }
   ],
   "source": [
    "import random\n",
    "# Defining a function that takes two arguments\n",
    "# One for the number of sides\n",
    "# One for the number of dice\n",
    "def roll_dice(sides, dice):\n",
    "    if dice != 0:\n",
    "        # This determines a random roll between 1 and the number of sides selected\n",
    "        roll = random.randint(1, sides)\n",
    "        print(roll)\n",
    "        # This calls the function again\n",
    "        roll_dice(sides, dice - 1)\n",
    "    # This stops the function when dice = 0\n",
    "    # Which is after all rolls have been printed\n",
    "    elif dice == 0:\n",
    "        print(\"That's all!\")\n",
    "        return\n",
    "        \n",
    "roll_dice(20, 3)\n",
    "    "
   ]
  },
  {
   "cell_type": "markdown",
   "metadata": {},
   "source": [
    "Problem 3 - Write a function, is_palindrome, which takes a string as parameter, and returns True if the string is a palindrome (meaning it is the same forwards as backwards), and False otherwise. For an additional challenge, try writing this as a recursive function."
   ]
  },
  {
   "cell_type": "code",
   "execution_count": 3,
   "metadata": {},
   "outputs": [
    {
     "data": {
      "text/plain": [
       "True"
      ]
     },
     "execution_count": 3,
     "metadata": {},
     "output_type": "execute_result"
    }
   ],
   "source": [
    "def is_palindrome(word):\n",
    "    i = 0\n",
    "    j = len(word)-1\n",
    "    \n",
    "    while j >= 0:\n",
    "        if word[i] != word[j]:\n",
    "            return False\n",
    "        i = i+1\n",
    "        j = j-1\n",
    "        \n",
    "    return True\n",
    "        \n",
    "word = 'kayak'\n",
    "is_palindrome(word)"
   ]
  },
  {
   "cell_type": "code",
   "execution_count": null,
   "metadata": {},
   "outputs": [],
   "source": []
  }
 ],
 "metadata": {
  "kernelspec": {
   "display_name": "Python 3",
   "language": "python",
   "name": "python3"
  },
  "language_info": {
   "codemirror_mode": {
    "name": "ipython",
    "version": 3
   },
   "file_extension": ".py",
   "mimetype": "text/x-python",
   "name": "python",
   "nbconvert_exporter": "python",
   "pygments_lexer": "ipython3",
   "version": "3.8.5"
  }
 },
 "nbformat": 4,
 "nbformat_minor": 4
}
